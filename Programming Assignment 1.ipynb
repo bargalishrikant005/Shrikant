{
 "cells": [
  {
   "cell_type": "code",
   "execution_count": 1,
   "id": "ab3e183d",
   "metadata": {},
   "outputs": [
    {
     "name": "stdout",
     "output_type": "stream",
     "text": [
      "Hello Python.\n"
     ]
    }
   ],
   "source": [
    "#1.Write a Python program to print \"Hello Python\"?\n",
    "print(\"Hello Python.\")"
   ]
  },
  {
   "cell_type": "code",
   "execution_count": 2,
   "id": "2436ff00",
   "metadata": {},
   "outputs": [
    {
     "name": "stdout",
     "output_type": "stream",
     "text": [
      "Enter first number.20\n",
      "Enter second number.2\n",
      "Addition of a and b is  22\n",
      "Division of a and b is 10.0\n"
     ]
    }
   ],
   "source": [
    "#2.Write a Python program to do arithmetical operations addition and division.?\n",
    "a=int(input(\"Enter first number.\"))\n",
    "b=int(input(\"Enter second number.\"))\n",
    "\n",
    "c=a+b\n",
    "print(\"Addition of a and b is \",c)\n",
    "c=a/b\n",
    "print(\"Division of a and b is\",c)"
   ]
  },
  {
   "cell_type": "code",
   "execution_count": 3,
   "id": "374b2080",
   "metadata": {},
   "outputs": [
    {
     "name": "stdout",
     "output_type": "stream",
     "text": [
      "Enter height of triagle.20\n",
      "Enter base of triangle.100\n",
      "Area of triangle is  1000.0\n"
     ]
    }
   ],
   "source": [
    "#3.\tWrite a Python program to find the area of a triangle?\n",
    "height_of_triangle=float(input(\"Enter height of triagle.\"))\n",
    "base_of_triangle=float(input(\"Enter base of triangle.\"))\n",
    "\n",
    "area_of_triangle=((height_of_triangle*base_of_triangle)/2)\n",
    "\n",
    "print(\"Area of triangle is \",area_of_triangle)"
   ]
  },
  {
   "cell_type": "code",
   "execution_count": 6,
   "id": "b2908390",
   "metadata": {},
   "outputs": [
    {
     "name": "stdout",
     "output_type": "stream",
     "text": [
      "Enter first number.20\n",
      "Enter second number.30\n",
      "Before swapping. 20 30\n",
      "after swapping 30 20\n"
     ]
    }
   ],
   "source": [
    "#4.\tWrite a Python program to swap two variables?\n",
    "a=int(input(\"Enter first number.\"))\n",
    "b=int(input(\"Enter second number.\"))\n",
    "\n",
    "print(\"Before swapping.\",a,b)\n",
    "temp=a\n",
    "a=b\n",
    "b=temp\n",
    "\n",
    "print(\"after swapping\",a,b)"
   ]
  },
  {
   "cell_type": "code",
   "execution_count": 7,
   "id": "3791a81f",
   "metadata": {},
   "outputs": [
    {
     "name": "stdout",
     "output_type": "stream",
     "text": [
      "Enter first number.300\n",
      "Enter second number.20\n",
      "Before swapping. 300 20\n",
      "after swapping 20 300\n"
     ]
    }
   ],
   "source": [
    "a=int(input(\"Enter first number.\"))\n",
    "b=int(input(\"Enter second number.\"))\n",
    "\n",
    "print(\"Before swapping.\",a,b)\n",
    "\n",
    "a,b=b,a\n",
    "\n",
    "print(\"after swapping\",a,b)"
   ]
  },
  {
   "cell_type": "code",
   "execution_count": 12,
   "id": "164c7d95",
   "metadata": {},
   "outputs": [
    {
     "name": "stdout",
     "output_type": "stream",
     "text": [
      "9\n"
     ]
    }
   ],
   "source": [
    "#5.\tWrite a Python program to generate a random number?\n",
    "import random\n",
    "\n",
    "print(random.randint(0,9))"
   ]
  },
  {
   "cell_type": "code",
   "execution_count": null,
   "id": "e9fb0e9a",
   "metadata": {},
   "outputs": [],
   "source": []
  }
 ],
 "metadata": {
  "kernelspec": {
   "display_name": "Python 3",
   "language": "python",
   "name": "python3"
  },
  "language_info": {
   "codemirror_mode": {
    "name": "ipython",
    "version": 3
   },
   "file_extension": ".py",
   "mimetype": "text/x-python",
   "name": "python",
   "nbconvert_exporter": "python",
   "pygments_lexer": "ipython3",
   "version": "3.6.13"
  }
 },
 "nbformat": 4,
 "nbformat_minor": 5
}
