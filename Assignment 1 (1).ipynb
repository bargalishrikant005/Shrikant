{
 "cells": [
  {
   "cell_type": "markdown",
   "id": "48f395c0",
   "metadata": {},
   "source": [
    "# 1. In the below elements which of them are values or an expression? \n",
    "eg:- values can be integer or string and expressions will be mathematical operators.\n",
    "\n",
    "*  - Multiplication operator (astrisk symbol) \n",
    "'hello' - String\n",
    "-87.8 - Floating value\n",
    "-   - Substraction operator\n",
    "/  - Division operator\n",
    "+\t- Addition Operator\n",
    "6   - Integer number\n",
    "\n"
   ]
  },
  {
   "cell_type": "code",
   "execution_count": 1,
   "id": "d6291401",
   "metadata": {},
   "outputs": [
    {
     "name": "stdout",
     "output_type": "stream",
     "text": [
      "Hello\n"
     ]
    }
   ],
   "source": [
    "print('Hello')\n"
   ]
  },
  {
   "cell_type": "code",
   "execution_count": 2,
   "id": "efa2f789",
   "metadata": {},
   "outputs": [],
   "source": [
    "x=-87.8"
   ]
  },
  {
   "cell_type": "code",
   "execution_count": 3,
   "id": "82fa45b5",
   "metadata": {},
   "outputs": [
    {
     "name": "stdout",
     "output_type": "stream",
     "text": [
      "-87.8\n"
     ]
    }
   ],
   "source": [
    "print(x)"
   ]
  },
  {
   "cell_type": "code",
   "execution_count": 4,
   "id": "d3658f79",
   "metadata": {},
   "outputs": [
    {
     "data": {
      "text/plain": [
       "float"
      ]
     },
     "execution_count": 4,
     "metadata": {},
     "output_type": "execute_result"
    }
   ],
   "source": [
    "type(x)"
   ]
  },
  {
   "cell_type": "code",
   "execution_count": 5,
   "id": "82e2562b",
   "metadata": {},
   "outputs": [
    {
     "data": {
      "text/plain": [
       "11"
      ]
     },
     "execution_count": 5,
     "metadata": {},
     "output_type": "execute_result"
    }
   ],
   "source": [
    "22-11"
   ]
  },
  {
   "cell_type": "code",
   "execution_count": 6,
   "id": "39c0c00a",
   "metadata": {},
   "outputs": [
    {
     "data": {
      "text/plain": [
       "11"
      ]
     },
     "execution_count": 6,
     "metadata": {},
     "output_type": "execute_result"
    }
   ],
   "source": [
    "a=22\n",
    "b=11\n",
    "a-b"
   ]
  },
  {
   "cell_type": "code",
   "execution_count": 7,
   "id": "325bf71f",
   "metadata": {},
   "outputs": [
    {
     "name": "stdout",
     "output_type": "stream",
     "text": [
      "11\n"
     ]
    }
   ],
   "source": [
    "print(a-b)"
   ]
  },
  {
   "cell_type": "code",
   "execution_count": 8,
   "id": "b960eee1",
   "metadata": {},
   "outputs": [
    {
     "name": "stdout",
     "output_type": "stream",
     "text": [
      "22\n"
     ]
    }
   ],
   "source": [
    "print(a)"
   ]
  },
  {
   "cell_type": "code",
   "execution_count": 9,
   "id": "a4a50475",
   "metadata": {},
   "outputs": [
    {
     "name": "stdout",
     "output_type": "stream",
     "text": [
      "11\n"
     ]
    }
   ],
   "source": [
    "print(b)"
   ]
  },
  {
   "cell_type": "code",
   "execution_count": 10,
   "id": "c6553bdd",
   "metadata": {},
   "outputs": [
    {
     "name": "stdout",
     "output_type": "stream",
     "text": [
      "2.0\n"
     ]
    }
   ],
   "source": [
    "print(a/b)"
   ]
  },
  {
   "cell_type": "code",
   "execution_count": 11,
   "id": "f634bc19",
   "metadata": {},
   "outputs": [
    {
     "data": {
      "text/plain": [
       "float"
      ]
     },
     "execution_count": 11,
     "metadata": {},
     "output_type": "execute_result"
    }
   ],
   "source": [
    "type(a/b)"
   ]
  },
  {
   "cell_type": "code",
   "execution_count": 12,
   "id": "c64e31c2",
   "metadata": {},
   "outputs": [
    {
     "name": "stdout",
     "output_type": "stream",
     "text": [
      "33\n"
     ]
    }
   ],
   "source": [
    "print(a+b)"
   ]
  },
  {
   "cell_type": "code",
   "execution_count": 13,
   "id": "b97afbfe",
   "metadata": {},
   "outputs": [],
   "source": [
    "a=6"
   ]
  },
  {
   "cell_type": "code",
   "execution_count": 14,
   "id": "95a01b2a",
   "metadata": {},
   "outputs": [
    {
     "name": "stdout",
     "output_type": "stream",
     "text": [
      "6\n"
     ]
    }
   ],
   "source": [
    "print(a)"
   ]
  },
  {
   "cell_type": "code",
   "execution_count": 15,
   "id": "60bf8f47",
   "metadata": {},
   "outputs": [
    {
     "data": {
      "text/plain": [
       "int"
      ]
     },
     "execution_count": 15,
     "metadata": {},
     "output_type": "execute_result"
    }
   ],
   "source": [
    "type(a)"
   ]
  },
  {
   "cell_type": "code",
   "execution_count": 16,
   "id": "ba5f87e6",
   "metadata": {},
   "outputs": [
    {
     "data": {
      "text/plain": [
       "int"
      ]
     },
     "execution_count": 16,
     "metadata": {},
     "output_type": "execute_result"
    }
   ],
   "source": [
    "type(6)"
   ]
  },
  {
   "cell_type": "markdown",
   "id": "97285b30",
   "metadata": {},
   "source": [
    "2. What is the difference between string and variable? \n",
    "  Variable and string very much similar totaly depends on the assignment of values to the defined variable.\n",
    "  Name_of_Student=\"Shrikant\"  this is noting but a string.\n",
    "  Roll_Number=200  is nothing but a variable.\n",
    " String: string is nothing but a collection of characters .which is stored in sequential memory location with index values.\n",
    "ex : \"Students\"\n",
    "       \"Name_of_employee\" etc.\n",
    "  Variable : Variable is noting but the assignment of values to the \n",
    "\n",
    "    "
   ]
  },
  {
   "cell_type": "code",
   "execution_count": 17,
   "id": "52caa79d",
   "metadata": {},
   "outputs": [],
   "source": [
    "Name_of_student=\"Shrikant\""
   ]
  },
  {
   "cell_type": "code",
   "execution_count": 19,
   "id": "f97dcbd5",
   "metadata": {},
   "outputs": [
    {
     "name": "stdout",
     "output_type": "stream",
     "text": [
      "Shrikant\n"
     ]
    }
   ],
   "source": [
    "print(Name_of_student)"
   ]
  },
  {
   "cell_type": "code",
   "execution_count": 20,
   "id": "ee093f6b",
   "metadata": {},
   "outputs": [
    {
     "data": {
      "text/plain": [
       "str"
      ]
     },
     "execution_count": 20,
     "metadata": {},
     "output_type": "execute_result"
    }
   ],
   "source": [
    "type(Name_of_student)"
   ]
  },
  {
   "cell_type": "code",
   "execution_count": 21,
   "id": "35a8428d",
   "metadata": {},
   "outputs": [],
   "source": [
    "Roll_number=200"
   ]
  },
  {
   "cell_type": "code",
   "execution_count": 22,
   "id": "c6fb68db",
   "metadata": {},
   "outputs": [
    {
     "name": "stdout",
     "output_type": "stream",
     "text": [
      "200\n"
     ]
    }
   ],
   "source": [
    "print(Roll_number)"
   ]
  },
  {
   "cell_type": "code",
   "execution_count": 23,
   "id": "a669b5e2",
   "metadata": {},
   "outputs": [
    {
     "data": {
      "text/plain": [
       "int"
      ]
     },
     "execution_count": 23,
     "metadata": {},
     "output_type": "execute_result"
    }
   ],
   "source": [
    "type(Roll_number)"
   ]
  },
  {
   "cell_type": "markdown",
   "id": "993efdfc",
   "metadata": {},
   "source": [
    "3. Describe three different data types.\n",
    "\n",
    "In python basic three data types \n",
    "1. int.\n",
    "2. Float.\n",
    "3. string.\n",
    "\n",
    "1. Integer : integer is nothing storing number in memory without decimal point.  \n",
    "     \n",
    "     a= 10\n",
    "     b=20\n",
    "2. Float : the variable which can store the number with decimal point.\n",
    "  \n",
    "   pi=3.141569\n",
    "   x=10.2345\n",
    "   g=9.81\n",
    "3.string: the variable which can store the collection of characters or word etc.\n",
    "    First_name=\"Shrikant\"\n",
    "    Last_name=\"Mahindrakar\"\n",
    "     "
   ]
  },
  {
   "cell_type": "code",
   "execution_count": 24,
   "id": "4be1a8d2",
   "metadata": {},
   "outputs": [],
   "source": [
    "a=10\n",
    "b=20\n"
   ]
  },
  {
   "cell_type": "code",
   "execution_count": 25,
   "id": "b3dad34d",
   "metadata": {},
   "outputs": [
    {
     "data": {
      "text/plain": [
       "int"
      ]
     },
     "execution_count": 25,
     "metadata": {},
     "output_type": "execute_result"
    }
   ],
   "source": [
    "type(a)"
   ]
  },
  {
   "cell_type": "code",
   "execution_count": 26,
   "id": "27cdea84",
   "metadata": {},
   "outputs": [],
   "source": [
    "pi=3.141569"
   ]
  },
  {
   "cell_type": "code",
   "execution_count": 27,
   "id": "8c40eddf",
   "metadata": {},
   "outputs": [
    {
     "data": {
      "text/plain": [
       "float"
      ]
     },
     "execution_count": 27,
     "metadata": {},
     "output_type": "execute_result"
    }
   ],
   "source": [
    "type(pi)"
   ]
  },
  {
   "cell_type": "code",
   "execution_count": 28,
   "id": "d6fe5c27",
   "metadata": {},
   "outputs": [],
   "source": [
    "first_name=\"Shrikant\""
   ]
  },
  {
   "cell_type": "code",
   "execution_count": 29,
   "id": "9a2edd44",
   "metadata": {},
   "outputs": [
    {
     "data": {
      "text/plain": [
       "str"
      ]
     },
     "execution_count": 29,
     "metadata": {},
     "output_type": "execute_result"
    }
   ],
   "source": [
    "type(first_name)"
   ]
  },
  {
   "cell_type": "markdown",
   "id": "b3b49917",
   "metadata": {},
   "source": [
    "What is an expression made up of? What do all expressions do?\n",
    "\n",
    "Ans: Expression is construct of made up of variable,methods,and operators.which are constructed according to the syntax of the language, that evaluates to a single value.\n",
    "\n",
    "Ex: a=(x*c)+(2*d)"
   ]
  },
  {
   "cell_type": "markdown",
   "id": "cca6a929",
   "metadata": {},
   "source": [
    "x=2\n",
    "c=4\n",
    "d=45\n",
    "a=(x*c)+(2*d) # expression is combination of variable,operator,methods etc."
   ]
  },
  {
   "cell_type": "code",
   "execution_count": 31,
   "id": "33025367",
   "metadata": {},
   "outputs": [
    {
     "name": "stdout",
     "output_type": "stream",
     "text": [
      "98\n"
     ]
    }
   ],
   "source": [
    "print(a)"
   ]
  },
  {
   "cell_type": "markdown",
   "id": "49a72431",
   "metadata": {},
   "source": [
    "5. This assignment statements, like spam = 10. What is the difference between an expression and a statement?\n",
    "\n",
    "In expression is a combination of variable,methods,operator etc .\n",
    "\n",
    "ex: a=(x*x)+(c/x)+(c*d)\n",
    "\n",
    "spam=10 is a assignment statement means number 10 is assigned to spam variable ."
   ]
  },
  {
   "cell_type": "markdown",
   "id": "4635514f",
   "metadata": {},
   "source": [
    "After running the following code, what does the variable bacon contain?\n",
    "bacon = 22\n",
    "bacon + 1\n",
    "\n",
    "bacon is variable and the 22 is stored in bacon \n",
    "\n",
    "bacon+ 1 \n",
    "\n",
    "= 22+1\n",
    "\n",
    "here it prints 23\n",
    "but the value of bacon is \n",
    "bacon=22\n"
   ]
  },
  {
   "cell_type": "code",
   "execution_count": 33,
   "id": "c4bf2093",
   "metadata": {},
   "outputs": [
    {
     "data": {
      "text/plain": [
       "23"
      ]
     },
     "execution_count": 33,
     "metadata": {},
     "output_type": "execute_result"
    }
   ],
   "source": [
    "bacon=22\n",
    "bacon+1\n",
    "\n"
   ]
  },
  {
   "cell_type": "code",
   "execution_count": 34,
   "id": "bd635ef2",
   "metadata": {},
   "outputs": [
    {
     "name": "stdout",
     "output_type": "stream",
     "text": [
      "22\n"
     ]
    }
   ],
   "source": [
    "print(bacon)"
   ]
  },
  {
   "cell_type": "markdown",
   "id": "49bfb22d",
   "metadata": {},
   "source": [
    "7. What should the values of the following two terms be?\n",
    "'spam' + 'spamspam'\n",
    "\n",
    "'spam' * 3\n"
   ]
  },
  {
   "cell_type": "code",
   "execution_count": 35,
   "id": "25be16d7",
   "metadata": {},
   "outputs": [
    {
     "data": {
      "text/plain": [
       "'spamspamspam'"
      ]
     },
     "execution_count": 35,
     "metadata": {},
     "output_type": "execute_result"
    }
   ],
   "source": [
    "'spam'+'spamspam'"
   ]
  },
  {
   "cell_type": "code",
   "execution_count": 36,
   "id": "5bde74fd",
   "metadata": {},
   "outputs": [
    {
     "data": {
      "text/plain": [
       "'spamspamspam'"
      ]
     },
     "execution_count": 36,
     "metadata": {},
     "output_type": "execute_result"
    }
   ],
   "source": [
    "'spam'*3"
   ]
  },
  {
   "cell_type": "markdown",
   "id": "533b44db",
   "metadata": {},
   "source": [
    "8. Why is eggs a valid variable name while 100 is invalid?\n",
    "\n",
    "Ans:  eggs is valid variable name while 100 is invalid \n",
    "     python interpreter will be confused between variable name assignment values so the name of varible is always starts from \n",
    "     alphabet.\n",
    "     this is the single reason eggs varible name is valid but varible name 100 is invalid."
   ]
  },
  {
   "cell_type": "code",
   "execution_count": 37,
   "id": "581d4f2b",
   "metadata": {},
   "outputs": [],
   "source": [
    "eggs=200"
   ]
  },
  {
   "cell_type": "code",
   "execution_count": 38,
   "id": "91f12bb3",
   "metadata": {},
   "outputs": [
    {
     "name": "stdout",
     "output_type": "stream",
     "text": [
      "200\n"
     ]
    }
   ],
   "source": [
    "print(eggs)"
   ]
  },
  {
   "cell_type": "code",
   "execution_count": 39,
   "id": "3a1fb364",
   "metadata": {},
   "outputs": [
    {
     "ename": "SyntaxError",
     "evalue": "can't assign to literal (<ipython-input-39-89903c7c29fd>, line 1)",
     "output_type": "error",
     "traceback": [
      "\u001b[1;36m  File \u001b[1;32m\"<ipython-input-39-89903c7c29fd>\"\u001b[1;36m, line \u001b[1;32m1\u001b[0m\n\u001b[1;33m    100=200\u001b[0m\n\u001b[1;37m           ^\u001b[0m\n\u001b[1;31mSyntaxError\u001b[0m\u001b[1;31m:\u001b[0m can't assign to literal\n"
     ]
    }
   ],
   "source": [
    "100=200"
   ]
  },
  {
   "cell_type": "code",
   "execution_count": null,
   "id": "d5aeece4",
   "metadata": {},
   "outputs": [],
   "source": []
  }
 ],
 "metadata": {
  "kernelspec": {
   "display_name": "Python 3",
   "language": "python",
   "name": "python3"
  },
  "language_info": {
   "codemirror_mode": {
    "name": "ipython",
    "version": 3
   },
   "file_extension": ".py",
   "mimetype": "text/x-python",
   "name": "python",
   "nbconvert_exporter": "python",
   "pygments_lexer": "ipython3",
   "version": "3.6.13"
  }
 },
 "nbformat": 4,
 "nbformat_minor": 5
}
